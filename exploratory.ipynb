{
 "cells": [
  {
   "cell_type": "code",
   "execution_count": 2,
   "metadata": {},
   "outputs": [],
   "source": [
    "# import our packages\n",
    "import pandas as pd\n",
    "import seaborn as sns\n",
    "\n",
    "%matplotlib inline"
   ]
  },
  {
   "cell_type": "code",
   "execution_count": 11,
   "metadata": {},
   "outputs": [],
   "source": [
    "# connect to our data\n",
    "myExploratoryData = pd.read_csv(\"C:\\\\Users\\\\Malee\\\\OneDrive\\\\Desktop\\\\Self Learning\\\\The Data Science of Marketing (LinkedIn)\\\\Exercise Files\\\\02_03\\\\exploratory-py.csv\")"
   ]
  },
  {
   "cell_type": "code",
   "execution_count": 19,
   "metadata": {},
   "outputs": [
    {
     "data": {
      "text/html": [
       "<div>\n",
       "<style scoped>\n",
       "    .dataframe tbody tr th:only-of-type {\n",
       "        vertical-align: middle;\n",
       "    }\n",
       "\n",
       "    .dataframe tbody tr th {\n",
       "        vertical-align: top;\n",
       "    }\n",
       "\n",
       "    .dataframe thead th {\n",
       "        text-align: right;\n",
       "    }\n",
       "</style>\n",
       "<table border=\"1\" class=\"dataframe\">\n",
       "  <thead>\n",
       "    <tr style=\"text-align: right;\">\n",
       "      <th></th>\n",
       "      <th>0</th>\n",
       "      <th>1</th>\n",
       "      <th>2</th>\n",
       "      <th>3</th>\n",
       "      <th>4</th>\n",
       "      <th>5</th>\n",
       "      <th>6</th>\n",
       "      <th>7</th>\n",
       "      <th>8</th>\n",
       "    </tr>\n",
       "  </thead>\n",
       "  <tbody>\n",
       "    <tr>\n",
       "      <th>keyword</th>\n",
       "      <td>low price air</td>\n",
       "      <td>lowest air price</td>\n",
       "      <td>airline flight insurance</td>\n",
       "      <td>lowest air prices</td>\n",
       "      <td>luggage for airlines</td>\n",
       "      <td>luggage bags for us travel</td>\n",
       "      <td>trip insurance coverage</td>\n",
       "      <td>check on luggage</td>\n",
       "      <td>flight insurance coverage</td>\n",
       "    </tr>\n",
       "    <tr>\n",
       "      <th>cpa</th>\n",
       "      <td>5.83</td>\n",
       "      <td>9.72</td>\n",
       "      <td>2.73</td>\n",
       "      <td>3.74</td>\n",
       "      <td>2.61</td>\n",
       "      <td>0.54</td>\n",
       "      <td>5.7</td>\n",
       "      <td>3.11</td>\n",
       "      <td>4.89</td>\n",
       "    </tr>\n",
       "    <tr>\n",
       "      <th>impressions</th>\n",
       "      <td>118215</td>\n",
       "      <td>49244</td>\n",
       "      <td>4905</td>\n",
       "      <td>81605</td>\n",
       "      <td>20435</td>\n",
       "      <td>20102</td>\n",
       "      <td>12796</td>\n",
       "      <td>8911</td>\n",
       "      <td>15630</td>\n",
       "    </tr>\n",
       "  </tbody>\n",
       "</table>\n",
       "</div>"
      ],
      "text/plain": [
       "                         0                 1                         2  \\\n",
       "keyword      low price air  lowest air price  airline flight insurance   \n",
       "cpa                   5.83              9.72                      2.73   \n",
       "impressions         118215             49244                      4905   \n",
       "\n",
       "                             3                     4  \\\n",
       "keyword      lowest air prices  luggage for airlines   \n",
       "cpa                       3.74                  2.61   \n",
       "impressions              81605                 20435   \n",
       "\n",
       "                                      5                        6  \\\n",
       "keyword      luggage bags for us travel  trip insurance coverage   \n",
       "cpa                                0.54                      5.7   \n",
       "impressions                       20102                    12796   \n",
       "\n",
       "                            7                          8  \n",
       "keyword      check on luggage  flight insurance coverage  \n",
       "cpa                      3.11                       4.89  \n",
       "impressions              8911                      15630  "
      ]
     },
     "execution_count": 19,
     "metadata": {},
     "output_type": "execute_result"
    }
   ],
   "source": [
    "# see a summary of our data\n",
    "myExploratoryData.transpose()"
   ]
  },
  {
   "cell_type": "code",
   "execution_count": 13,
   "metadata": {},
   "outputs": [
    {
     "data": {
      "text/plain": [
       "<matplotlib.axes._subplots.AxesSubplot at 0x1ed098c28d0>"
      ]
     },
     "execution_count": 13,
     "metadata": {},
     "output_type": "execute_result"
    },
    {
     "data": {
      "image/png": "[encoded data removed]",
      "text/plain": [
       "<Figure size 432x288 with 1 Axes>"
      ]
     },
     "metadata": {},
     "output_type": "display_data"
    }
   ],
   "source": [
    "# visualize our data\n",
    "sns.kdeplot(myExploratoryData.cpa)"
   ]
  },
  {
   "cell_type": "code",
   "execution_count": 14,
   "metadata": {},
   "outputs": [
    {
     "data": {
      "text/plain": [
       "<matplotlib.axes._subplots.AxesSubplot at 0x1ed0993a1d0>"
      ]
     },
     "execution_count": 14,
     "metadata": {},
     "output_type": "execute_result"
    },
    {
     "data": {
      "image/png": "[encoded data removed]",
      "text/plain": [
       "<Figure size 432x288 with 1 Axes>"
      ]
     },
     "metadata": {},
     "output_type": "display_data"
    }
   ],
   "source": [
    "# visualize our data with additional detail \n",
    "sns.set(style=\"ticks\")\n",
    "sns.distplot(myExploratoryData.cpa)"
   ]
  },
  {
   "cell_type": "code",
   "execution_count": 15,
   "metadata": {},
   "outputs": [],
   "source": [
    "# pivot the data #Where the most impressions are, where the most spending is\n",
    "myETLData = myExploratoryData.pivot(\"keyword\", \"impressions\", \"cpa\")"
   ]
  },
  {
   "cell_type": "code",
   "execution_count": 16,
   "metadata": {},
   "outputs": [
    {
     "data": {
      "text/html": [
       "<div>\n",
       "<style scoped>\n",
       "    .dataframe tbody tr th:only-of-type {\n",
       "        vertical-align: middle;\n",
       "    }\n",
       "\n",
       "    .dataframe tbody tr th {\n",
       "        vertical-align: top;\n",
       "    }\n",
       "\n",
       "    .dataframe thead th {\n",
       "        text-align: right;\n",
       "    }\n",
       "</style>\n",
       "<table border=\"1\" class=\"dataframe\">\n",
       "  <thead>\n",
       "    <tr style=\"text-align: right;\">\n",
       "      <th>impressions</th>\n",
       "      <th>4905</th>\n",
       "      <th>8911</th>\n",
       "      <th>12796</th>\n",
       "      <th>15630</th>\n",
       "      <th>20102</th>\n",
       "      <th>20435</th>\n",
       "      <th>49244</th>\n",
       "      <th>81605</th>\n",
       "      <th>118215</th>\n",
       "    </tr>\n",
       "    <tr>\n",
       "      <th>keyword</th>\n",
       "      <th></th>\n",
       "      <th></th>\n",
       "      <th></th>\n",
       "      <th></th>\n",
       "      <th></th>\n",
       "      <th></th>\n",
       "      <th></th>\n",
       "      <th></th>\n",
       "      <th></th>\n",
       "    </tr>\n",
       "  </thead>\n",
       "  <tbody>\n",
       "    <tr>\n",
       "      <th>airline flight insurance</th>\n",
       "      <td>2.73</td>\n",
       "      <td>NaN</td>\n",
       "      <td>NaN</td>\n",
       "      <td>NaN</td>\n",
       "      <td>NaN</td>\n",
       "      <td>NaN</td>\n",
       "      <td>NaN</td>\n",
       "      <td>NaN</td>\n",
       "      <td>NaN</td>\n",
       "    </tr>\n",
       "    <tr>\n",
       "      <th>check on luggage</th>\n",
       "      <td>NaN</td>\n",
       "      <td>3.11</td>\n",
       "      <td>NaN</td>\n",
       "      <td>NaN</td>\n",
       "      <td>NaN</td>\n",
       "      <td>NaN</td>\n",
       "      <td>NaN</td>\n",
       "      <td>NaN</td>\n",
       "      <td>NaN</td>\n",
       "    </tr>\n",
       "    <tr>\n",
       "      <th>flight insurance coverage</th>\n",
       "      <td>NaN</td>\n",
       "      <td>NaN</td>\n",
       "      <td>NaN</td>\n",
       "      <td>4.89</td>\n",
       "      <td>NaN</td>\n",
       "      <td>NaN</td>\n",
       "      <td>NaN</td>\n",
       "      <td>NaN</td>\n",
       "      <td>NaN</td>\n",
       "    </tr>\n",
       "    <tr>\n",
       "      <th>low price air</th>\n",
       "      <td>NaN</td>\n",
       "      <td>NaN</td>\n",
       "      <td>NaN</td>\n",
       "      <td>NaN</td>\n",
       "      <td>NaN</td>\n",
       "      <td>NaN</td>\n",
       "      <td>NaN</td>\n",
       "      <td>NaN</td>\n",
       "      <td>5.83</td>\n",
       "    </tr>\n",
       "    <tr>\n",
       "      <th>lowest air price</th>\n",
       "      <td>NaN</td>\n",
       "      <td>NaN</td>\n",
       "      <td>NaN</td>\n",
       "      <td>NaN</td>\n",
       "      <td>NaN</td>\n",
       "      <td>NaN</td>\n",
       "      <td>9.72</td>\n",
       "      <td>NaN</td>\n",
       "      <td>NaN</td>\n",
       "    </tr>\n",
       "    <tr>\n",
       "      <th>lowest air prices</th>\n",
       "      <td>NaN</td>\n",
       "      <td>NaN</td>\n",
       "      <td>NaN</td>\n",
       "      <td>NaN</td>\n",
       "      <td>NaN</td>\n",
       "      <td>NaN</td>\n",
       "      <td>NaN</td>\n",
       "      <td>3.74</td>\n",
       "      <td>NaN</td>\n",
       "    </tr>\n",
       "    <tr>\n",
       "      <th>luggage bags for us travel</th>\n",
       "      <td>NaN</td>\n",
       "      <td>NaN</td>\n",
       "      <td>NaN</td>\n",
       "      <td>NaN</td>\n",
       "      <td>0.54</td>\n",
       "      <td>NaN</td>\n",
       "      <td>NaN</td>\n",
       "      <td>NaN</td>\n",
       "      <td>NaN</td>\n",
       "    </tr>\n",
       "    <tr>\n",
       "      <th>luggage for airlines</th>\n",
       "      <td>NaN</td>\n",
       "      <td>NaN</td>\n",
       "      <td>NaN</td>\n",
       "      <td>NaN</td>\n",
       "      <td>NaN</td>\n",
       "      <td>2.61</td>\n",
       "      <td>NaN</td>\n",
       "      <td>NaN</td>\n",
       "      <td>NaN</td>\n",
       "    </tr>\n",
       "    <tr>\n",
       "      <th>trip insurance coverage</th>\n",
       "      <td>NaN</td>\n",
       "      <td>NaN</td>\n",
       "      <td>5.7</td>\n",
       "      <td>NaN</td>\n",
       "      <td>NaN</td>\n",
       "      <td>NaN</td>\n",
       "      <td>NaN</td>\n",
       "      <td>NaN</td>\n",
       "      <td>NaN</td>\n",
       "    </tr>\n",
       "  </tbody>\n",
       "</table>\n",
       "</div>"
      ],
      "text/plain": [
       "impressions                 4905    8911    12796   15630   20102   20435   \\\n",
       "keyword                                                                      \n",
       "airline flight insurance      2.73     NaN     NaN     NaN     NaN     NaN   \n",
       "check on luggage               NaN    3.11     NaN     NaN     NaN     NaN   \n",
       "flight insurance coverage      NaN     NaN     NaN    4.89     NaN     NaN   \n",
       "low price air                  NaN     NaN     NaN     NaN     NaN     NaN   \n",
       "lowest air price               NaN     NaN     NaN     NaN     NaN     NaN   \n",
       "lowest air prices              NaN     NaN     NaN     NaN     NaN     NaN   \n",
       "luggage bags for us travel     NaN     NaN     NaN     NaN    0.54     NaN   \n",
       "luggage for airlines           NaN     NaN     NaN     NaN     NaN    2.61   \n",
       "trip insurance coverage        NaN     NaN     5.7     NaN     NaN     NaN   \n",
       "\n",
       "impressions                 49244   81605   118215  \n",
       "keyword                                             \n",
       "airline flight insurance       NaN     NaN     NaN  \n",
       "check on luggage               NaN     NaN     NaN  \n",
       "flight insurance coverage      NaN     NaN     NaN  \n",
       "low price air                  NaN     NaN    5.83  \n",
       "lowest air price              9.72     NaN     NaN  \n",
       "lowest air prices              NaN    3.74     NaN  \n",
       "luggage bags for us travel     NaN     NaN     NaN  \n",
       "luggage for airlines           NaN     NaN     NaN  \n",
       "trip insurance coverage        NaN     NaN     NaN  "
      ]
     },
     "execution_count": 16,
     "metadata": {},
     "output_type": "execute_result"
    }
   ],
   "source": [
    "# see a summary of our pivot \n",
    "myETLData"
   ]
  },
  {
   "cell_type": "code",
   "execution_count": 18,
   "metadata": {},
   "outputs": [
    {
     "data": {
      "text/plain": [
       "<matplotlib.axes._subplots.AxesSubplot at 0x1ed09a74d30>"
      ]
     },
     "execution_count": 18,
     "metadata": {},
     "output_type": "execute_result"
    },
    {
     "data": {
      "image/png": "[encoded data removed]",
      "text/plain": [
       "<Figure size 432x288 with 2 Axes>"
      ]
     },
     "metadata": {},
     "output_type": "display_data"
    }
   ],
   "source": [
    "# visualize our data\n",
    "sns.heatmap(myETLData)"
   ]
  },
  {
   "cell_type": "markdown",
   "metadata": {},
   "source": [
    "You get quick sense of the overall cost, the lighter the color is, the more does that particular keyword costs  \n",
    "At the bottom we can see the impressions, ranging from 4905 to 118215  \n",
    "#### This would help us analyze how to optimize our data, our campaign, the words we use and get greater yield from our campaign"
   ]
  },
  {
   "cell_type": "code",
   "execution_count": null,
   "metadata": {},
   "outputs": [],
   "source": []
  }
 ],
 "metadata": {
  "anaconda-cloud": {},
  "kernelspec": {
   "display_name": "Python 3",
   "language": "python",
   "name": "python3"
  },
  "language_info": {
   "codemirror_mode": {
    "name": "ipython",
    "version": 3
   },
   "file_extension": ".py",
   "mimetype": "text/x-python",
   "name": "python",
   "nbconvert_exporter": "python",
   "pygments_lexer": "ipython3",
   "version": "3.7.3"
  }
 },
 "nbformat": 4,
 "nbformat_minor": 1
}
